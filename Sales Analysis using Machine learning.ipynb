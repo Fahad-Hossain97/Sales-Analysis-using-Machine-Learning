{
 "cells": [
  {
   "cell_type": "markdown",
   "id": "85c0a57b",
   "metadata": {},
   "source": [
    "# Import libraries "
   ]
  },
  {
   "cell_type": "code",
   "execution_count": 49,
   "id": "f41f2396",
   "metadata": {},
   "outputs": [],
   "source": [
    "import pandas as pd\n",
    "import numpy as np\n",
    "import matplotlib.pyplot as plt\n",
    "import  seaborn as sns\n",
    "import scipy.stats as stats\n",
    "from sklearn.ensemble import RandomForestRegressor\n",
    "from sklearn.ensemble import RandomForestClassifier\n",
    "from sklearn.preprocessing import LabelEncoder\n",
    "from sklearn.model_selection import train_test_split\n",
    "from sklearn.model_selection import cross_val_score\n",
    "from sklearn.model_selection import KFold\n",
    "from sklearn.metrics import mean_squared_error, r2_score,classification_report, confusion_matrix\n",
    "from sklearn.ensemble import IsolationForest\n"
   ]
  },
  {
   "cell_type": "code",
   "execution_count": 2,
   "id": "70fac7ab",
   "metadata": {},
   "outputs": [],
   "source": [
    "#imort the dataset\n",
    "df = pd.read_csv('Sales Dataset.csv')"
   ]
  },
  {
   "cell_type": "markdown",
   "id": "084bae83",
   "metadata": {},
   "source": [
    "# 1.0 Explanetory Data Analysis "
   ]
  },
  {
   "cell_type": "code",
   "execution_count": 3,
   "id": "06871ccc",
   "metadata": {},
   "outputs": [
    {
     "data": {
      "text/html": [
       "<div>\n",
       "<style scoped>\n",
       "    .dataframe tbody tr th:only-of-type {\n",
       "        vertical-align: middle;\n",
       "    }\n",
       "\n",
       "    .dataframe tbody tr th {\n",
       "        vertical-align: top;\n",
       "    }\n",
       "\n",
       "    .dataframe thead th {\n",
       "        text-align: right;\n",
       "    }\n",
       "</style>\n",
       "<table border=\"1\" class=\"dataframe\">\n",
       "  <thead>\n",
       "    <tr style=\"text-align: right;\">\n",
       "      <th></th>\n",
       "      <th>Area Code</th>\n",
       "      <th>State</th>\n",
       "      <th>Market</th>\n",
       "      <th>Market Size</th>\n",
       "      <th>Profit</th>\n",
       "      <th>Margin</th>\n",
       "      <th>Sales</th>\n",
       "      <th>COGS</th>\n",
       "      <th>Total Expenses</th>\n",
       "      <th>Marketing</th>\n",
       "      <th>Inventory</th>\n",
       "      <th>Budget Profit</th>\n",
       "      <th>Budget COGS</th>\n",
       "      <th>Budget Margin</th>\n",
       "      <th>Budget Sales</th>\n",
       "      <th>ProductId</th>\n",
       "      <th>Date</th>\n",
       "      <th>Product Type</th>\n",
       "      <th>Product</th>\n",
       "      <th>Type</th>\n",
       "    </tr>\n",
       "  </thead>\n",
       "  <tbody>\n",
       "    <tr>\n",
       "      <th>0</th>\n",
       "      <td>203</td>\n",
       "      <td>Connecticut</td>\n",
       "      <td>East</td>\n",
       "      <td>Small Market</td>\n",
       "      <td>107</td>\n",
       "      <td>176</td>\n",
       "      <td>292.0</td>\n",
       "      <td>116</td>\n",
       "      <td>69</td>\n",
       "      <td>38</td>\n",
       "      <td>962</td>\n",
       "      <td>110</td>\n",
       "      <td>110</td>\n",
       "      <td>160</td>\n",
       "      <td>270</td>\n",
       "      <td>2</td>\n",
       "      <td>04/01/2010 00:00</td>\n",
       "      <td>Coffee</td>\n",
       "      <td>Columbian</td>\n",
       "      <td>Regular</td>\n",
       "    </tr>\n",
       "    <tr>\n",
       "      <th>1</th>\n",
       "      <td>203</td>\n",
       "      <td>Connecticut</td>\n",
       "      <td>East</td>\n",
       "      <td>Small Market</td>\n",
       "      <td>75</td>\n",
       "      <td>135</td>\n",
       "      <td>225.0</td>\n",
       "      <td>90</td>\n",
       "      <td>60</td>\n",
       "      <td>29</td>\n",
       "      <td>1148</td>\n",
       "      <td>90</td>\n",
       "      <td>80</td>\n",
       "      <td>130</td>\n",
       "      <td>210</td>\n",
       "      <td>2</td>\n",
       "      <td>07/01/2010 00:00</td>\n",
       "      <td>Coffee</td>\n",
       "      <td>Columbian</td>\n",
       "      <td>Regular</td>\n",
       "    </tr>\n",
       "    <tr>\n",
       "      <th>2</th>\n",
       "      <td>203</td>\n",
       "      <td>Connecticut</td>\n",
       "      <td>East</td>\n",
       "      <td>Small Market</td>\n",
       "      <td>122</td>\n",
       "      <td>195</td>\n",
       "      <td>325.0</td>\n",
       "      <td>130</td>\n",
       "      <td>73</td>\n",
       "      <td>42</td>\n",
       "      <td>1134</td>\n",
       "      <td>130</td>\n",
       "      <td>110</td>\n",
       "      <td>180</td>\n",
       "      <td>290</td>\n",
       "      <td>2</td>\n",
       "      <td>11/01/2010 00:00</td>\n",
       "      <td>Coffee</td>\n",
       "      <td>Columbian</td>\n",
       "      <td>Regular</td>\n",
       "    </tr>\n",
       "    <tr>\n",
       "      <th>3</th>\n",
       "      <td>203</td>\n",
       "      <td>NaN</td>\n",
       "      <td>East</td>\n",
       "      <td>Small Market</td>\n",
       "      <td>105</td>\n",
       "      <td>174</td>\n",
       "      <td>289.0</td>\n",
       "      <td>115</td>\n",
       "      <td>69</td>\n",
       "      <td>37</td>\n",
       "      <td>1166</td>\n",
       "      <td>110</td>\n",
       "      <td>100</td>\n",
       "      <td>160</td>\n",
       "      <td>260</td>\n",
       "      <td>2</td>\n",
       "      <td>12/01/2010 00:00</td>\n",
       "      <td>Coffee</td>\n",
       "      <td>Columbian</td>\n",
       "      <td>Regular</td>\n",
       "    </tr>\n",
       "    <tr>\n",
       "      <th>4</th>\n",
       "      <td>203</td>\n",
       "      <td>Connecticut</td>\n",
       "      <td>East</td>\n",
       "      <td>Small Market</td>\n",
       "      <td>104</td>\n",
       "      <td>135</td>\n",
       "      <td>223.0</td>\n",
       "      <td>90</td>\n",
       "      <td>56</td>\n",
       "      <td>29</td>\n",
       "      <td>1148</td>\n",
       "      <td>90</td>\n",
       "      <td>80</td>\n",
       "      <td>130</td>\n",
       "      <td>210</td>\n",
       "      <td>2</td>\n",
       "      <td>07/01/2011 00:00</td>\n",
       "      <td>Coffee</td>\n",
       "      <td>Columbian</td>\n",
       "      <td>Regular</td>\n",
       "    </tr>\n",
       "  </tbody>\n",
       "</table>\n",
       "</div>"
      ],
      "text/plain": [
       "   Area Code        State Market   Market Size  Profit  Margin  Sales  COGS  \\\n",
       "0        203  Connecticut   East  Small Market     107     176  292.0   116   \n",
       "1        203  Connecticut   East  Small Market      75     135  225.0    90   \n",
       "2        203  Connecticut   East  Small Market     122     195  325.0   130   \n",
       "3        203          NaN   East  Small Market     105     174  289.0   115   \n",
       "4        203  Connecticut   East  Small Market     104     135  223.0    90   \n",
       "\n",
       "   Total Expenses  Marketing  Inventory  Budget Profit  Budget COGS  \\\n",
       "0              69         38        962            110          110   \n",
       "1              60         29       1148             90           80   \n",
       "2              73         42       1134            130          110   \n",
       "3              69         37       1166            110          100   \n",
       "4              56         29       1148             90           80   \n",
       "\n",
       "   Budget Margin  Budget Sales  ProductId              Date Product Type  \\\n",
       "0            160           270          2  04/01/2010 00:00       Coffee   \n",
       "1            130           210          2  07/01/2010 00:00       Coffee   \n",
       "2            180           290          2  11/01/2010 00:00       Coffee   \n",
       "3            160           260          2  12/01/2010 00:00       Coffee   \n",
       "4            130           210          2  07/01/2011 00:00       Coffee   \n",
       "\n",
       "     Product     Type  \n",
       "0  Columbian  Regular  \n",
       "1  Columbian  Regular  \n",
       "2  Columbian  Regular  \n",
       "3  Columbian  Regular  \n",
       "4  Columbian  Regular  "
      ]
     },
     "execution_count": 3,
     "metadata": {},
     "output_type": "execute_result"
    }
   ],
   "source": [
    "#Show the dataset\n",
    "df.head()"
   ]
  },
  {
   "cell_type": "markdown",
   "id": "776cf3d2",
   "metadata": {},
   "source": [
    "# 1.1 Data overview"
   ]
  },
  {
   "cell_type": "code",
   "execution_count": 4,
   "id": "d055d8a8",
   "metadata": {},
   "outputs": [
    {
     "name": "stdout",
     "output_type": "stream",
     "text": [
      "<class 'pandas.core.frame.DataFrame'>\n",
      "RangeIndex: 4248 entries, 0 to 4247\n",
      "Data columns (total 20 columns):\n",
      " #   Column          Non-Null Count  Dtype  \n",
      "---  ------          --------------  -----  \n",
      " 0   Area Code       4248 non-null   int64  \n",
      " 1   State           4246 non-null   object \n",
      " 2   Market          4248 non-null   object \n",
      " 3   Market Size     4246 non-null   object \n",
      " 4   Profit          4248 non-null   int64  \n",
      " 5   Margin          4248 non-null   int64  \n",
      " 6   Sales           4244 non-null   float64\n",
      " 7   COGS            4248 non-null   int64  \n",
      " 8   Total Expenses  4248 non-null   int64  \n",
      " 9   Marketing       4248 non-null   int64  \n",
      " 10  Inventory       4248 non-null   int64  \n",
      " 11  Budget Profit   4248 non-null   int64  \n",
      " 12  Budget COGS     4248 non-null   int64  \n",
      " 13  Budget Margin   4248 non-null   int64  \n",
      " 14  Budget Sales    4248 non-null   int64  \n",
      " 15  ProductId       4248 non-null   int64  \n",
      " 16  Date            4248 non-null   object \n",
      " 17  Product Type    4248 non-null   object \n",
      " 18  Product         4247 non-null   object \n",
      " 19  Type            4246 non-null   object \n",
      "dtypes: float64(1), int64(12), object(7)\n",
      "memory usage: 663.9+ KB\n"
     ]
    }
   ],
   "source": [
    "df.info()"
   ]
  },
  {
   "cell_type": "code",
   "execution_count": 5,
   "id": "6af843e7",
   "metadata": {},
   "outputs": [
    {
     "data": {
      "text/plain": [
       "Area Code         156\n",
       "State              20\n",
       "Market              4\n",
       "Market Size         2\n",
       "Profit            466\n",
       "Margin            290\n",
       "Sales             432\n",
       "COGS              173\n",
       "Total Expenses    156\n",
       "Marketing         102\n",
       "Inventory         610\n",
       "Budget Profit      76\n",
       "Budget COGS        41\n",
       "Budget Margin      76\n",
       "Budget Sales       89\n",
       "ProductId          13\n",
       "Date               24\n",
       "Product Type        4\n",
       "Product            13\n",
       "Type                2\n",
       "dtype: int64"
      ]
     },
     "execution_count": 5,
     "metadata": {},
     "output_type": "execute_result"
    }
   ],
   "source": [
    "#Checking the unique number in every column\n",
    "df.nunique()"
   ]
  },
  {
   "cell_type": "code",
   "execution_count": 6,
   "id": "71d9cd68",
   "metadata": {},
   "outputs": [],
   "source": [
    "#Column name Lower\n",
    "df.columns= df.columns.str.lower()"
   ]
  },
  {
   "cell_type": "markdown",
   "id": "3cbcd1cb",
   "metadata": {},
   "source": [
    "#  1.2 Missing Value Handiling"
   ]
  },
  {
   "cell_type": "code",
   "execution_count": 7,
   "id": "2e3c53b4",
   "metadata": {},
   "outputs": [
    {
     "data": {
      "text/plain": [
       "area code         0\n",
       "state             2\n",
       "market            0\n",
       "market size       2\n",
       "profit            0\n",
       "margin            0\n",
       "sales             4\n",
       "cogs              0\n",
       "total expenses    0\n",
       "marketing         0\n",
       "inventory         0\n",
       "budget profit     0\n",
       "budget cogs       0\n",
       "budget margin     0\n",
       "budget sales      0\n",
       "productid         0\n",
       "date              0\n",
       "product type      0\n",
       "product           1\n",
       "type              2\n",
       "dtype: int64"
      ]
     },
     "execution_count": 7,
     "metadata": {},
     "output_type": "execute_result"
    }
   ],
   "source": [
    "df.isnull().sum()"
   ]
  },
  {
   "cell_type": "code",
   "execution_count": 8,
   "id": "94d47f44",
   "metadata": {},
   "outputs": [],
   "source": [
    "#state fill up by the area code.\n",
    "df['state']= df.groupby('area code')['state'].transform( lambda x: x.fillna(x.mode()[0])if not x.mode().empty else x)\n",
    "# Market size  fill up by the market.\n",
    "df['market size']= df.groupby('market')['market size'].transform( lambda x: x.fillna(x.mode()[0])if not x.mode().empty else x)\n",
    "#sales fill up by the Median number\n",
    "df['sales'] = df['sales'].median()\n",
    "# product   fill up by the productid.\n",
    "df['product']= df.groupby('productid')['product'].transform( lambda x: x.fillna(x.mode()[0])if not x.mode().empty else x)\n",
    "# Type fill up by the productid \n",
    "df['type']= df.groupby('productid')['type'].transform( lambda x: x.fillna(x.mode()[0])if not x.mode().empty else x)\n"
   ]
  },
  {
   "cell_type": "code",
   "execution_count": 9,
   "id": "7f753d11",
   "metadata": {},
   "outputs": [
    {
     "data": {
      "text/plain": [
       "area code         0\n",
       "state             0\n",
       "market            0\n",
       "market size       0\n",
       "profit            0\n",
       "margin            0\n",
       "sales             0\n",
       "cogs              0\n",
       "total expenses    0\n",
       "marketing         0\n",
       "inventory         0\n",
       "budget profit     0\n",
       "budget cogs       0\n",
       "budget margin     0\n",
       "budget sales      0\n",
       "productid         0\n",
       "date              0\n",
       "product type      0\n",
       "product           0\n",
       "type              0\n",
       "dtype: int64"
      ]
     },
     "execution_count": 9,
     "metadata": {},
     "output_type": "execute_result"
    }
   ],
   "source": [
    "df.isnull().sum()"
   ]
  },
  {
   "cell_type": "code",
   "execution_count": 10,
   "id": "bd3e42e9",
   "metadata": {},
   "outputs": [
    {
     "data": {
      "text/html": [
       "<div>\n",
       "<style scoped>\n",
       "    .dataframe tbody tr th:only-of-type {\n",
       "        vertical-align: middle;\n",
       "    }\n",
       "\n",
       "    .dataframe tbody tr th {\n",
       "        vertical-align: top;\n",
       "    }\n",
       "\n",
       "    .dataframe thead th {\n",
       "        text-align: right;\n",
       "    }\n",
       "</style>\n",
       "<table border=\"1\" class=\"dataframe\">\n",
       "  <thead>\n",
       "    <tr style=\"text-align: right;\">\n",
       "      <th></th>\n",
       "      <th>area code</th>\n",
       "      <th>profit</th>\n",
       "      <th>margin</th>\n",
       "      <th>sales</th>\n",
       "      <th>cogs</th>\n",
       "      <th>total expenses</th>\n",
       "      <th>marketing</th>\n",
       "      <th>inventory</th>\n",
       "      <th>budget profit</th>\n",
       "      <th>budget cogs</th>\n",
       "      <th>budget margin</th>\n",
       "      <th>budget sales</th>\n",
       "      <th>productid</th>\n",
       "    </tr>\n",
       "  </thead>\n",
       "  <tbody>\n",
       "    <tr>\n",
       "      <th>count</th>\n",
       "      <td>4248.000000</td>\n",
       "      <td>4248.000000</td>\n",
       "      <td>4248.000000</td>\n",
       "      <td>4248.0</td>\n",
       "      <td>4248.000000</td>\n",
       "      <td>4248.000000</td>\n",
       "      <td>4248.000000</td>\n",
       "      <td>4248.000000</td>\n",
       "      <td>4248.000000</td>\n",
       "      <td>4248.000000</td>\n",
       "      <td>4248.000000</td>\n",
       "      <td>4248.000000</td>\n",
       "      <td>4248.000000</td>\n",
       "    </tr>\n",
       "    <tr>\n",
       "      <th>mean</th>\n",
       "      <td>582.278013</td>\n",
       "      <td>61.097693</td>\n",
       "      <td>104.293315</td>\n",
       "      <td>138.0</td>\n",
       "      <td>84.433145</td>\n",
       "      <td>54.063559</td>\n",
       "      <td>31.185028</td>\n",
       "      <td>749.381356</td>\n",
       "      <td>60.913371</td>\n",
       "      <td>74.830508</td>\n",
       "      <td>100.819209</td>\n",
       "      <td>175.649718</td>\n",
       "      <td>6.887006</td>\n",
       "    </tr>\n",
       "    <tr>\n",
       "      <th>std</th>\n",
       "      <td>221.140310</td>\n",
       "      <td>101.708546</td>\n",
       "      <td>94.342522</td>\n",
       "      <td>0.0</td>\n",
       "      <td>67.249769</td>\n",
       "      <td>32.352598</td>\n",
       "      <td>27.023264</td>\n",
       "      <td>661.031896</td>\n",
       "      <td>79.546123</td>\n",
       "      <td>66.238145</td>\n",
       "      <td>92.602725</td>\n",
       "      <td>148.891522</td>\n",
       "      <td>3.664072</td>\n",
       "    </tr>\n",
       "    <tr>\n",
       "      <th>min</th>\n",
       "      <td>203.000000</td>\n",
       "      <td>-638.000000</td>\n",
       "      <td>-302.000000</td>\n",
       "      <td>138.0</td>\n",
       "      <td>0.000000</td>\n",
       "      <td>10.000000</td>\n",
       "      <td>0.000000</td>\n",
       "      <td>-3534.000000</td>\n",
       "      <td>-320.000000</td>\n",
       "      <td>0.000000</td>\n",
       "      <td>-210.000000</td>\n",
       "      <td>0.000000</td>\n",
       "      <td>1.000000</td>\n",
       "    </tr>\n",
       "    <tr>\n",
       "      <th>25%</th>\n",
       "      <td>417.000000</td>\n",
       "      <td>17.000000</td>\n",
       "      <td>52.750000</td>\n",
       "      <td>138.0</td>\n",
       "      <td>43.000000</td>\n",
       "      <td>33.000000</td>\n",
       "      <td>13.000000</td>\n",
       "      <td>432.000000</td>\n",
       "      <td>20.000000</td>\n",
       "      <td>30.000000</td>\n",
       "      <td>50.000000</td>\n",
       "      <td>80.000000</td>\n",
       "      <td>4.000000</td>\n",
       "    </tr>\n",
       "    <tr>\n",
       "      <th>50%</th>\n",
       "      <td>573.000000</td>\n",
       "      <td>40.000000</td>\n",
       "      <td>76.000000</td>\n",
       "      <td>138.0</td>\n",
       "      <td>60.000000</td>\n",
       "      <td>46.000000</td>\n",
       "      <td>22.000000</td>\n",
       "      <td>619.000000</td>\n",
       "      <td>40.000000</td>\n",
       "      <td>50.000000</td>\n",
       "      <td>70.000000</td>\n",
       "      <td>130.000000</td>\n",
       "      <td>6.000000</td>\n",
       "    </tr>\n",
       "    <tr>\n",
       "      <th>75%</th>\n",
       "      <td>772.000000</td>\n",
       "      <td>92.000000</td>\n",
       "      <td>132.000000</td>\n",
       "      <td>138.0</td>\n",
       "      <td>100.000000</td>\n",
       "      <td>65.000000</td>\n",
       "      <td>39.000000</td>\n",
       "      <td>910.500000</td>\n",
       "      <td>80.000000</td>\n",
       "      <td>90.000000</td>\n",
       "      <td>130.000000</td>\n",
       "      <td>210.000000</td>\n",
       "      <td>10.000000</td>\n",
       "    </tr>\n",
       "    <tr>\n",
       "      <th>max</th>\n",
       "      <td>985.000000</td>\n",
       "      <td>778.000000</td>\n",
       "      <td>613.000000</td>\n",
       "      <td>138.0</td>\n",
       "      <td>364.000000</td>\n",
       "      <td>190.000000</td>\n",
       "      <td>156.000000</td>\n",
       "      <td>8252.000000</td>\n",
       "      <td>560.000000</td>\n",
       "      <td>450.000000</td>\n",
       "      <td>690.000000</td>\n",
       "      <td>1140.000000</td>\n",
       "      <td>13.000000</td>\n",
       "    </tr>\n",
       "  </tbody>\n",
       "</table>\n",
       "</div>"
      ],
      "text/plain": [
       "         area code       profit       margin   sales         cogs  \\\n",
       "count  4248.000000  4248.000000  4248.000000  4248.0  4248.000000   \n",
       "mean    582.278013    61.097693   104.293315   138.0    84.433145   \n",
       "std     221.140310   101.708546    94.342522     0.0    67.249769   \n",
       "min     203.000000  -638.000000  -302.000000   138.0     0.000000   \n",
       "25%     417.000000    17.000000    52.750000   138.0    43.000000   \n",
       "50%     573.000000    40.000000    76.000000   138.0    60.000000   \n",
       "75%     772.000000    92.000000   132.000000   138.0   100.000000   \n",
       "max     985.000000   778.000000   613.000000   138.0   364.000000   \n",
       "\n",
       "       total expenses    marketing    inventory  budget profit  budget cogs  \\\n",
       "count     4248.000000  4248.000000  4248.000000    4248.000000  4248.000000   \n",
       "mean        54.063559    31.185028   749.381356      60.913371    74.830508   \n",
       "std         32.352598    27.023264   661.031896      79.546123    66.238145   \n",
       "min         10.000000     0.000000 -3534.000000    -320.000000     0.000000   \n",
       "25%         33.000000    13.000000   432.000000      20.000000    30.000000   \n",
       "50%         46.000000    22.000000   619.000000      40.000000    50.000000   \n",
       "75%         65.000000    39.000000   910.500000      80.000000    90.000000   \n",
       "max        190.000000   156.000000  8252.000000     560.000000   450.000000   \n",
       "\n",
       "       budget margin  budget sales    productid  \n",
       "count    4248.000000   4248.000000  4248.000000  \n",
       "mean      100.819209    175.649718     6.887006  \n",
       "std        92.602725    148.891522     3.664072  \n",
       "min      -210.000000      0.000000     1.000000  \n",
       "25%        50.000000     80.000000     4.000000  \n",
       "50%        70.000000    130.000000     6.000000  \n",
       "75%       130.000000    210.000000    10.000000  \n",
       "max       690.000000   1140.000000    13.000000  "
      ]
     },
     "execution_count": 10,
     "metadata": {},
     "output_type": "execute_result"
    }
   ],
   "source": [
    "#summary Statistics\n",
    "df.describe()"
   ]
  },
  {
   "cell_type": "markdown",
   "id": "edd5801f",
   "metadata": {},
   "source": [
    "# 1.3 Sales Distribution\n"
   ]
  },
  {
   "cell_type": "code",
   "execution_count": 11,
   "id": "ad9d126d",
   "metadata": {},
   "outputs": [
    {
     "data": {
      "image/png": "[encoded data removed]",
      "text/plain": [
       "<Figure size 640x480 with 1 Axes>"
      ]
     },
     "metadata": {},
     "output_type": "display_data"
    }
   ],
   "source": [
    "stats.probplot(df['sales'], dist=\"norm\", plot=plt)\n",
    "plt.title(\"Q-Q Plot of Sales\")\n",
    "plt.show()"
   ]
  },
  {
   "cell_type": "code",
   "execution_count": 12,
   "id": "c3ea75ac",
   "metadata": {},
   "outputs": [],
   "source": [
    "# Made another copy of dataset\n",
    "df2= df.copy()\n",
    "df3 = df.copy()"
   ]
  },
  {
   "cell_type": "markdown",
   "id": "38738321",
   "metadata": {},
   "source": [
    "# 1.4 Categorical variable Encoding"
   ]
  },
  {
   "cell_type": "code",
   "execution_count": 13,
   "id": "c85508c5",
   "metadata": {},
   "outputs": [],
   "source": [
    "le = LabelEncoder()                #For label encoding\n",
    "df2['state'] = le.fit_transform(df2['state'])\n",
    "df2['market'] = le.fit_transform(df2['market'])\n",
    "df2['market size'] = le.fit_transform(df2['market size'])\n",
    "df2['product type'] = le.fit_transform(df2['product type'])\n",
    "df2['product'] = le.fit_transform(df2['product'])\n",
    "df2['type'] = le.fit_transform(df2['type'])\n",
    "df2['date'] = le.fit_transform(df2['date'])\n",
    "df2['sales'] = df2['sales'].astype('int64')\n"
   ]
  },
  {
   "cell_type": "markdown",
   "id": "a0f86a3b",
   "metadata": {},
   "source": [
    "# Q(2.0) Can we predict Profit based on product, market, and budget features?"
   ]
  },
  {
   "cell_type": "code",
   "execution_count": 14,
   "id": "620d207d",
   "metadata": {},
   "outputs": [],
   "source": [
    "#Select your features and target\n",
    "features = ['product type', 'market', 'market size', \n",
    "            'budget profit', 'budget sales', 'budget margin', 'budget cogs']\n",
    "target = 'profit'\n",
    "df_model = df[features + [target]].copy()\n",
    "\n",
    "# Convert categorical columns to dummy variables\n",
    "df_model = pd.get_dummies(df_model, columns=['product type', 'market', 'market size'], drop_first=True)\n",
    "\n",
    "# Drop or fill missing values\n",
    "df_model = df_model.dropna()\n"
   ]
  },
  {
   "cell_type": "code",
   "execution_count": 16,
   "id": "da437e18",
   "metadata": {},
   "outputs": [],
   "source": [
    "X = df_model.drop(columns=[target])\n",
    "y = df_model[target]\n",
    "\n",
    "X_train, X_test, y_train, y_test = train_test_split(X, y, test_size=0.2, random_state=42)"
   ]
  },
  {
   "cell_type": "code",
   "execution_count": 17,
   "id": "c24515f1",
   "metadata": {},
   "outputs": [
    {
     "name": "stdout",
     "output_type": "stream",
     "text": [
      "MSE: 1013.5485186274268\n",
      "R² Score: 0.9086026550789545\n"
     ]
    }
   ],
   "source": [
    "\n",
    "model = RandomForestRegressor(n_estimators=100, random_state=42)\n",
    "model.fit(X_train, y_train)\n",
    "y_pred = model.predict(X_test)\n",
    "print(\"MSE:\", mean_squared_error(y_test, y_pred))\n",
    "print(\"R² Score:\", r2_score(y_test, y_pred))"
   ]
  },
  {
   "cell_type": "code",
   "execution_count": 18,
   "id": "a0f41b5d",
   "metadata": {},
   "outputs": [
    {
     "data": {
      "image/png": "[encoded data removed]",
      "text/plain": [
       "<Figure size 640x480 with 1 Axes>"
      ]
     },
     "metadata": {},
     "output_type": "display_data"
    }
   ],
   "source": [
    "importances = pd.Series(model.feature_importances_, index=X.columns)\n",
    "importances.nlargest(10).plot(kind='barh')\n",
    "plt.title(\"Top Features Affecting Profit\")\n",
    "plt.show()"
   ]
  },
  {
   "cell_type": "markdown",
   "id": "be78079d",
   "metadata": {},
   "source": [
    "# Q(2.2) Which features most affect the Profit Margin?"
   ]
  },
  {
   "cell_type": "code",
   "execution_count": 19,
   "id": "4e0b516a",
   "metadata": {},
   "outputs": [
    {
     "data": {
      "text/html": [
       "<style>#sk-container-id-1 {color: black;background-color: white;}#sk-container-id-1 pre{padding: 0;}#sk-container-id-1 div.sk-toggleable {background-color: white;}#sk-container-id-1 label.sk-toggleable__label {cursor: pointer;display: block;width: 100%;margin-bottom: 0;padding: 0.3em;box-sizing: border-box;text-align: center;}#sk-container-id-1 label.sk-toggleable__label-arrow:before {content: \"▸\";float: left;margin-right: 0.25em;color: #696969;}#sk-container-id-1 label.sk-toggleable__label-arrow:hover:before {color: black;}#sk-container-id-1 div.sk-estimator:hover label.sk-toggleable__label-arrow:before {color: black;}#sk-container-id-1 div.sk-toggleable__content {max-height: 0;max-width: 0;overflow: hidden;text-align: left;background-color: #f0f8ff;}#sk-container-id-1 div.sk-toggleable__content pre {margin: 0.2em;color: black;border-radius: 0.25em;background-color: #f0f8ff;}#sk-container-id-1 input.sk-toggleable__control:checked~div.sk-toggleable__content {max-height: 200px;max-width: 100%;overflow: auto;}#sk-container-id-1 input.sk-toggleable__control:checked~label.sk-toggleable__label-arrow:before {content: \"▾\";}#sk-container-id-1 div.sk-estimator input.sk-toggleable__control:checked~label.sk-toggleable__label {background-color: #d4ebff;}#sk-container-id-1 div.sk-label input.sk-toggleable__control:checked~label.sk-toggleable__label {background-color: #d4ebff;}#sk-container-id-1 input.sk-hidden--visually {border: 0;clip: rect(1px 1px 1px 1px);clip: rect(1px, 1px, 1px, 1px);height: 1px;margin: -1px;overflow: hidden;padding: 0;position: absolute;width: 1px;}#sk-container-id-1 div.sk-estimator {font-family: monospace;background-color: #f0f8ff;border: 1px dotted black;border-radius: 0.25em;box-sizing: border-box;margin-bottom: 0.5em;}#sk-container-id-1 div.sk-estimator:hover {background-color: #d4ebff;}#sk-container-id-1 div.sk-parallel-item::after {content: \"\";width: 100%;border-bottom: 1px solid gray;flex-grow: 1;}#sk-container-id-1 div.sk-label:hover label.sk-toggleable__label {background-color: #d4ebff;}#sk-container-id-1 div.sk-serial::before {content: \"\";position: absolute;border-left: 1px solid gray;box-sizing: border-box;top: 0;bottom: 0;left: 50%;z-index: 0;}#sk-container-id-1 div.sk-serial {display: flex;flex-direction: column;align-items: center;background-color: white;padding-right: 0.2em;padding-left: 0.2em;position: relative;}#sk-container-id-1 div.sk-item {position: relative;z-index: 1;}#sk-container-id-1 div.sk-parallel {display: flex;align-items: stretch;justify-content: center;background-color: white;position: relative;}#sk-container-id-1 div.sk-item::before, #sk-container-id-1 div.sk-parallel-item::before {content: \"\";position: absolute;border-left: 1px solid gray;box-sizing: border-box;top: 0;bottom: 0;left: 50%;z-index: -1;}#sk-container-id-1 div.sk-parallel-item {display: flex;flex-direction: column;z-index: 1;position: relative;background-color: white;}#sk-container-id-1 div.sk-parallel-item:first-child::after {align-self: flex-end;width: 50%;}#sk-container-id-1 div.sk-parallel-item:last-child::after {align-self: flex-start;width: 50%;}#sk-container-id-1 div.sk-parallel-item:only-child::after {width: 0;}#sk-container-id-1 div.sk-dashed-wrapped {border: 1px dashed gray;margin: 0 0.4em 0.5em 0.4em;box-sizing: border-box;padding-bottom: 0.4em;background-color: white;}#sk-container-id-1 div.sk-label label {font-family: monospace;font-weight: bold;display: inline-block;line-height: 1.2em;}#sk-container-id-1 div.sk-label-container {text-align: center;}#sk-container-id-1 div.sk-container {/* jupyter's `normalize.less` sets `[hidden] { display: none; }` but bootstrap.min.css set `[hidden] { display: none !important; }` so we also need the `!important` here to be able to override the default hidden behavior on the sphinx rendered scikit-learn.org. See: https://github.com/scikit-learn/scikit-learn/issues/21755 */display: inline-block !important;position: relative;}#sk-container-id-1 div.sk-text-repr-fallback {display: none;}</style><div id=\"sk-container-id-1\" class=\"sk-top-container\"><div class=\"sk-text-repr-fallback\"><pre>RandomForestRegressor(random_state=42)</pre><b>In a Jupyter environment, please rerun this cell to show the HTML representation or trust the notebook. <br />On GitHub, the HTML representation is unable to render, please try loading this page with nbviewer.org.</b></div><div class=\"sk-container\" hidden><div class=\"sk-item\"><div class=\"sk-estimator sk-toggleable\"><input class=\"sk-toggleable__control sk-hidden--visually\" id=\"sk-estimator-id-1\" type=\"checkbox\" checked><label for=\"sk-estimator-id-1\" class=\"sk-toggleable__label sk-toggleable__label-arrow\">RandomForestRegressor</label><div class=\"sk-toggleable__content\"><pre>RandomForestRegressor(random_state=42)</pre></div></div></div></div></div>"
      ],
      "text/plain": [
       "RandomForestRegressor(random_state=42)"
      ]
     },
     "execution_count": 19,
     "metadata": {},
     "output_type": "execute_result"
    }
   ],
   "source": [
    "target = 'margin'\n",
    "\n",
    "features = ['product type', 'market', 'market size', 'sales',\n",
    "            'cogs', 'total expenses', 'marketing', 'inventory',\n",
    "            'budget profit', 'budget sales', 'budget margin', 'budget cogs']\n",
    "df_model = df[features + [target]].copy()\n",
    "\n",
    "# Convert categorical to dummy variables\n",
    "df_model = pd.get_dummies(df_model, columns=['product type', 'market', 'market size'], drop_first=True)\n",
    "X = df_model.drop(columns=[target])\n",
    "y = df_model[target]\n",
    "\n",
    "X_train, X_test, y_train, y_test = train_test_split(X, y, test_size=0.2, random_state=42)\n",
    "\n",
    "model = RandomForestRegressor(n_estimators=100, random_state=42)\n",
    "model.fit(X_train, y_train)\n"
   ]
  },
  {
   "cell_type": "code",
   "execution_count": 20,
   "id": "2e96db1a",
   "metadata": {},
   "outputs": [
    {
     "data": {
      "image/png": "[encoded data removed]",
      "text/plain": [
       "<Figure size 1000x600 with 1 Axes>"
      ]
     },
     "metadata": {},
     "output_type": "display_data"
    }
   ],
   "source": [
    "importances = pd.Series(model.feature_importances_, index=X.columns)\n",
    "\n",
    "# Sort and plot\n",
    "top_features = importances.sort_values(ascending=False).head(10)\n",
    "\n",
    "plt.figure(figsize=(10, 6))\n",
    "sns.barplot(x=top_features.values, y=top_features.index, palette='viridis')\n",
    "plt.title('Top Features Affecting Profit Margin')\n",
    "plt.xlabel('Feature Importance Score')\n",
    "plt.ylabel('Features')\n",
    "plt.tight_layout()\n",
    "plt.show()"
   ]
  },
  {
   "cell_type": "markdown",
   "id": "3f671053",
   "metadata": {},
   "source": [
    "# Q(2.3)  Can we classify products as “High Profit” vs “Low Profit”?"
   ]
  },
  {
   "cell_type": "code",
   "execution_count": 21,
   "id": "a52b5b80",
   "metadata": {},
   "outputs": [
    {
     "name": "stdout",
     "output_type": "stream",
     "text": [
      "[[368  60]\n",
      " [ 53 369]]\n",
      "              precision    recall  f1-score   support\n",
      "\n",
      "           0       0.87      0.86      0.87       428\n",
      "           1       0.86      0.87      0.87       422\n",
      "\n",
      "    accuracy                           0.87       850\n",
      "   macro avg       0.87      0.87      0.87       850\n",
      "weighted avg       0.87      0.87      0.87       850\n",
      "\n"
     ]
    }
   ],
   "source": [
    "#Use median to define 'High' vs 'Low'\n",
    "threshold = df['profit'].median()\n",
    "#Create binary label as 1= High profit , 0 = Low Profit\n",
    "df['profit_label']= (df['profit']>=threshold).astype(int)\n",
    "features = ['product type', 'market', 'market size', 'sales',\n",
    "            'cogs', 'total expenses', 'marketing', 'inventory',\n",
    "            'budget profit', 'budget sales', 'budget margin', 'budget cogs']\n",
    "target = 'profit_label'\n",
    "# Prepare the dataset\n",
    "df_model = df[features + [target]].copy()\n",
    "# Convert categorical to numeric (One-Hot Encoding)\n",
    "df_model = pd.get_dummies(df_model, columns=['product type', 'market', 'market size'], drop_first=True)\n",
    "X = df_model.drop(columns=[target])\n",
    "y = df_model[target]\n",
    "#Classifier train\n",
    "X_train, X_test, y_train, y_test = train_test_split(X, y, test_size=0.2, random_state=42)\n",
    "model = RandomForestClassifier(n_estimators=100, random_state=42)\n",
    "model.fit(X_train, y_train)\n",
    "#Evaluate the model\n",
    "y_pred = model.predict(X_test)\n",
    "\n",
    "print(confusion_matrix(y_test, y_pred))\n",
    "print(classification_report(y_test, y_pred))"
   ]
  },
  {
   "cell_type": "code",
   "execution_count": 22,
   "id": "d181ed7b",
   "metadata": {},
   "outputs": [
    {
     "data": {
      "image/png": "[encoded data removed]",
      "text/plain": [
       "<Figure size 1000x600 with 1 Axes>"
      ]
     },
     "metadata": {},
     "output_type": "display_data"
    }
   ],
   "source": [
    "# Group by product type and profit_label\n",
    "profit_counts = df.groupby(['product type', 'profit_label']).size().unstack().fillna(0)\n",
    "\n",
    "# Plot\n",
    "plt.figure(figsize=(10, 6))\n",
    "plt.plot(profit_counts.index, profit_counts[0], marker='o', label='Low Profit (0)', color='red')\n",
    "plt.plot(profit_counts.index, profit_counts[1], marker='o', label='High Profit (1)', color='green')\n",
    "plt.title('Low vs High Profit Counts by Product Type')\n",
    "plt.xlabel('Product Type')\n",
    "plt.ylabel('Count')\n",
    "plt.legend()\n",
    "plt.xticks(rotation=45)\n",
    "plt.grid(True)\n",
    "plt.tight_layout()\n",
    "plt.show()"
   ]
  },
  {
   "cell_type": "markdown",
   "id": "deb27bcb",
   "metadata": {},
   "source": [
    "# Q(2.4) Which Market or Region has the highest potential for profit growth?"
   ]
  },
  {
   "cell_type": "code",
   "execution_count": 25,
   "id": "ea9fe254",
   "metadata": {},
   "outputs": [
    {
     "name": "stdout",
     "output_type": "stream",
     "text": [
      "    market  profit\n",
      "0  Central   93852\n",
      "1     East   59217\n",
      "2    South   32478\n",
      "3     West   73996\n"
     ]
    }
   ],
   "source": [
    "h=df.groupby(['market'])['profit'].sum().reset_index()\n",
    "print(h)"
   ]
  },
  {
   "cell_type": "markdown",
   "id": "dbf629f0",
   "metadata": {},
   "source": [
    "# Q(2.5) How closely does actual COGS match the Budget COGS?"
   ]
  },
  {
   "cell_type": "code",
   "execution_count": 33,
   "id": "d079d82b",
   "metadata": {},
   "outputs": [
    {
     "name": "stdout",
     "output_type": "stream",
     "text": [
      "📊 Comparison Summary:\n",
      "Average Difference: 9.60\n",
      "Average Percentage Error: inf%\n",
      "Correlation between Actual and Budgeted COGS: 0.95\n"
     ]
    }
   ],
   "source": [
    "# Calculate difference and percentage error\n",
    "df['difference'] = df['cogs'] - df['budget cogs']\n",
    "df['percent_error'] = (df['difference'] / df['budget cogs']) * 100\n",
    "\n",
    "# Summary statistics\n",
    "mean_diff = df['difference'].mean()\n",
    "mean_percent_error = df['percent_error'].mean()\n",
    "correlation = df['cogs'].corr(df['budget cogs'])\n"
   ]
  },
  {
   "cell_type": "code",
   "execution_count": 37,
   "id": "3f9cc038",
   "metadata": {},
   "outputs": [
    {
     "name": "stdout",
     "output_type": "stream",
     "text": [
      "📊 Comparison Summary:\n",
      "Average Difference: 9.60\n",
      "Average Percentage Error: inf\n",
      "Correlation between Actual and Budgeted COGS: 0.95\n"
     ]
    }
   ],
   "source": [
    "print(\"📊 Comparison Summary:\")\n",
    "print(f\"Average Difference: {mean_diff:.2f}\")\n",
    "print(\"Average Percentage Error:\",mean_percent_error)\n",
    "print(f\"Correlation between Actual and Budgeted COGS: {correlation:.2f}\")"
   ]
  },
  {
   "cell_type": "markdown",
   "id": "a25e806f",
   "metadata": {},
   "source": [
    "# Q(2.6) Can we predict if a product will exceed its budgeted sales?"
   ]
  },
  {
   "cell_type": "code",
   "execution_count": 38,
   "id": "6a5c56a4",
   "metadata": {},
   "outputs": [
    {
     "name": "stdout",
     "output_type": "stream",
     "text": [
      "              precision    recall  f1-score   support\n",
      "\n",
      "           0       1.00      1.00      1.00       578\n",
      "           1       1.00      1.00      1.00       697\n",
      "\n",
      "    accuracy                           1.00      1275\n",
      "   macro avg       1.00      1.00      1.00      1275\n",
      "weighted avg       1.00      1.00      1.00      1275\n",
      "\n"
     ]
    }
   ],
   "source": [
    "df['exceeds_budget'] = (df['sales'] > df['budget sales']).astype(int)\n",
    "features = ['budget sales', 'budget margin', 'market size', 'product type', 'marketing']\n",
    "df = df.dropna(subset=features)\n",
    "\n",
    "# Convert categorical variables\n",
    "df_encoded = pd.get_dummies(df[features], drop_first=True)\n",
    "\n",
    "X = df_encoded\n",
    "y = df['exceeds_budget']\n",
    "\n",
    "from sklearn.metrics import classification_report\n",
    "\n",
    "X_train, X_test, y_train, y_test = train_test_split(X, y, test_size=0.3, random_state=42)\n",
    "\n",
    "model = RandomForestClassifier(random_state=42)\n",
    "model.fit(X_train, y_train)\n",
    "\n",
    "y_pred = model.predict(X_test)\n",
    "print(classification_report(y_test, y_pred))\n"
   ]
  },
  {
   "cell_type": "markdown",
   "id": "610d5cb1",
   "metadata": {},
   "source": [
    "# Q(2.7)  Which months or regions show seasonal sales patterns?"
   ]
  },
  {
   "cell_type": "code",
   "execution_count": 41,
   "id": "8adfa6a5",
   "metadata": {},
   "outputs": [
    {
     "name": "stdout",
     "output_type": "stream",
     "text": [
      "     market product type    sales\n",
      "0   Central       Coffee  52992.0\n",
      "12     West     Espresso  49680.0\n",
      "14     West          Tea  49680.0\n",
      "2   Central   Herbal Tea  46368.0\n",
      "3   Central          Tea  46368.0\n",
      "11     West       Coffee  43056.0\n",
      "13     West   Herbal Tea  43056.0\n",
      "1   Central     Espresso  39744.0\n",
      "9     South     Espresso  39744.0\n",
      "7      East          Tea  36432.0\n",
      "5      East     Espresso  33120.0\n",
      "6      East   Herbal Tea  29808.0\n",
      "8     South       Coffee  26496.0\n",
      "10    South   Herbal Tea  26496.0\n",
      "4      East       Coffee  23184.0\n"
     ]
    }
   ],
   "source": [
    "top_products = df.groupby(['market', 'product type'])['sales'].sum().reset_index().sort_values(['sales'],ascending=False)\n",
    "print(top_products)"
   ]
  },
  {
   "cell_type": "markdown",
   "id": "b95a2331",
   "metadata": {},
   "source": [
    "# Q(2.8) Can we detect anomalies where marketing expenses do not align with profit or sales"
   ]
  },
  {
   "cell_type": "code",
   "execution_count": 50,
   "id": "da57d271",
   "metadata": {},
   "outputs": [
    {
     "name": "stderr",
     "output_type": "stream",
     "text": [
      "C:\\Users\\anjum\\anaconda3\\lib\\site-packages\\sklearn\\base.py:420: UserWarning: X does not have valid feature names, but IsolationForest was fitted with feature names\n",
      "  warnings.warn(\n"
     ]
    },
    {
     "name": "stdout",
     "output_type": "stream",
     "text": [
      "Detected Anomalies:\n",
      "            marketing  profit  sales  anomaly\n",
      "date                                         \n",
      "2010-01-01         95    -172  138.0       -1\n",
      "2010-01-01         23     367  138.0       -1\n",
      "2010-01-01         93    -354  138.0       -1\n",
      "2010-02-01         91    -342  138.0       -1\n",
      "2010-02-01         66    -120  138.0       -1\n",
      "...               ...     ...    ...      ...\n",
      "2011-12-01         97     402  138.0       -1\n",
      "2011-12-01        122    -332  138.0       -1\n",
      "2011-12-01        111     321  138.0       -1\n",
      "2011-12-01         97     402  138.0       -1\n",
      "2011-12-01        111    -605  138.0       -1\n",
      "\n",
      "[213 rows x 4 columns]\n"
     ]
    }
   ],
   "source": [
    "\n",
    "# Features to use\n",
    "features = df[['marketing', 'profit', 'sales']].dropna()\n",
    "\n",
    "# Fit model\n",
    "model = IsolationForest(contamination=0.05, random_state=42)\n",
    "features['anomaly'] = model.fit_predict(features)\n",
    "\n",
    "# -1 means anomaly\n",
    "anomalies_ml = features[features['anomaly'] == -1]\n",
    "\n",
    "print(\"Detected Anomalies:\")\n",
    "print(anomalies_ml)\n"
   ]
  },
  {
   "cell_type": "code",
   "execution_count": null,
   "id": "424e75e9",
   "metadata": {},
   "outputs": [],
   "source": []
  },
  {
   "cell_type": "code",
   "execution_count": null,
   "id": "b6d92b0c",
   "metadata": {},
   "outputs": [],
   "source": []
  }
 ],
 "metadata": {
  "kernelspec": {
   "display_name": "Python 3 (ipykernel)",
   "language": "python",
   "name": "python3"
  },
  "language_info": {
   "codemirror_mode": {
    "name": "ipython",
    "version": 3
   },
   "file_extension": ".py",
   "mimetype": "text/x-python",
   "name": "python",
   "nbconvert_exporter": "python",
   "pygments_lexer": "ipython3",
   "version": "3.10.9"
  }
 },
 "nbformat": 4,
 "nbformat_minor": 5
}
